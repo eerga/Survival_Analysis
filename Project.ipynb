{
 "cells": [
  {
   "cell_type": "code",
   "execution_count": 4,
   "id": "sharing-scale",
   "metadata": {},
   "outputs": [
    {
     "name": "stderr",
     "output_type": "stream",
     "text": [
      "Loading required package: ggplot2\n",
      "\n",
      "Loading required package: ggpubr\n",
      "\n"
     ]
    }
   ],
   "source": [
    "library(survival)\n",
    "library(\"survminer\")\n",
    "Diabetic <- diabetic"
   ]
  },
  {
   "cell_type": "code",
   "execution_count": 3,
   "id": "worldwide-abuse",
   "metadata": {},
   "outputs": [],
   "source": [
    "#install.packages(\"survminer\")"
   ]
  },
  {
   "cell_type": "code",
   "execution_count": 5,
   "id": "indonesian-shadow",
   "metadata": {},
   "outputs": [
    {
     "data": {
      "text/html": [
       "<style>\n",
       ".list-inline {list-style: none; margin:0; padding: 0}\n",
       ".list-inline>li {display: inline-block}\n",
       ".list-inline>li:not(:last-child)::after {content: \"\\00b7\"; padding: 0 .5ex}\n",
       "</style>\n",
       "<ol class=list-inline><li>'id'</li><li>'laser'</li><li>'age'</li><li>'eye'</li><li>'trt'</li><li>'risk'</li><li>'time'</li><li>'status'</li></ol>\n"
      ],
      "text/latex": [
       "\\begin{enumerate*}\n",
       "\\item 'id'\n",
       "\\item 'laser'\n",
       "\\item 'age'\n",
       "\\item 'eye'\n",
       "\\item 'trt'\n",
       "\\item 'risk'\n",
       "\\item 'time'\n",
       "\\item 'status'\n",
       "\\end{enumerate*}\n"
      ],
      "text/markdown": [
       "1. 'id'\n",
       "2. 'laser'\n",
       "3. 'age'\n",
       "4. 'eye'\n",
       "5. 'trt'\n",
       "6. 'risk'\n",
       "7. 'time'\n",
       "8. 'status'\n",
       "\n",
       "\n"
      ],
      "text/plain": [
       "[1] \"id\"     \"laser\"  \"age\"    \"eye\"    \"trt\"    \"risk\"   \"time\"   \"status\""
      ]
     },
     "metadata": {},
     "output_type": "display_data"
    }
   ],
   "source": [
    "colnames(Diabetic)"
   ]
  },
  {
   "cell_type": "code",
   "execution_count": 6,
   "id": "proper-norfolk",
   "metadata": {},
   "outputs": [
    {
     "data": {
      "text/html": [
       "<table class=\"dataframe\">\n",
       "<caption>A data.frame: 5 × 8</caption>\n",
       "<thead>\n",
       "\t<tr><th></th><th scope=col>id</th><th scope=col>laser</th><th scope=col>age</th><th scope=col>eye</th><th scope=col>trt</th><th scope=col>risk</th><th scope=col>time</th><th scope=col>status</th></tr>\n",
       "\t<tr><th></th><th scope=col>&lt;int&gt;</th><th scope=col>&lt;fct&gt;</th><th scope=col>&lt;int&gt;</th><th scope=col>&lt;fct&gt;</th><th scope=col>&lt;int&gt;</th><th scope=col>&lt;int&gt;</th><th scope=col>&lt;dbl&gt;</th><th scope=col>&lt;int&gt;</th></tr>\n",
       "</thead>\n",
       "<tbody>\n",
       "\t<tr><th scope=row>1</th><td> 5</td><td>argon</td><td>28</td><td>left </td><td>0</td><td> 9</td><td>46.23</td><td>0</td></tr>\n",
       "\t<tr><th scope=row>2</th><td> 5</td><td>argon</td><td>28</td><td>right</td><td>1</td><td> 9</td><td>46.23</td><td>0</td></tr>\n",
       "\t<tr><th scope=row>3</th><td>14</td><td>xenon</td><td>12</td><td>left </td><td>1</td><td> 8</td><td>42.50</td><td>0</td></tr>\n",
       "\t<tr><th scope=row>4</th><td>14</td><td>xenon</td><td>12</td><td>right</td><td>0</td><td> 6</td><td>31.30</td><td>1</td></tr>\n",
       "\t<tr><th scope=row>5</th><td>16</td><td>xenon</td><td> 9</td><td>left </td><td>1</td><td>11</td><td>42.27</td><td>0</td></tr>\n",
       "</tbody>\n",
       "</table>\n"
      ],
      "text/latex": [
       "A data.frame: 5 × 8\n",
       "\\begin{tabular}{r|llllllll}\n",
       "  & id & laser & age & eye & trt & risk & time & status\\\\\n",
       "  & <int> & <fct> & <int> & <fct> & <int> & <int> & <dbl> & <int>\\\\\n",
       "\\hline\n",
       "\t1 &  5 & argon & 28 & left  & 0 &  9 & 46.23 & 0\\\\\n",
       "\t2 &  5 & argon & 28 & right & 1 &  9 & 46.23 & 0\\\\\n",
       "\t3 & 14 & xenon & 12 & left  & 1 &  8 & 42.50 & 0\\\\\n",
       "\t4 & 14 & xenon & 12 & right & 0 &  6 & 31.30 & 1\\\\\n",
       "\t5 & 16 & xenon &  9 & left  & 1 & 11 & 42.27 & 0\\\\\n",
       "\\end{tabular}\n"
      ],
      "text/markdown": [
       "\n",
       "A data.frame: 5 × 8\n",
       "\n",
       "| <!--/--> | id &lt;int&gt; | laser &lt;fct&gt; | age &lt;int&gt; | eye &lt;fct&gt; | trt &lt;int&gt; | risk &lt;int&gt; | time &lt;dbl&gt; | status &lt;int&gt; |\n",
       "|---|---|---|---|---|---|---|---|---|\n",
       "| 1 |  5 | argon | 28 | left  | 0 |  9 | 46.23 | 0 |\n",
       "| 2 |  5 | argon | 28 | right | 1 |  9 | 46.23 | 0 |\n",
       "| 3 | 14 | xenon | 12 | left  | 1 |  8 | 42.50 | 0 |\n",
       "| 4 | 14 | xenon | 12 | right | 0 |  6 | 31.30 | 1 |\n",
       "| 5 | 16 | xenon |  9 | left  | 1 | 11 | 42.27 | 0 |\n",
       "\n"
      ],
      "text/plain": [
       "  id laser age eye   trt risk time  status\n",
       "1  5 argon 28  left  0    9   46.23 0     \n",
       "2  5 argon 28  right 1    9   46.23 0     \n",
       "3 14 xenon 12  left  1    8   42.50 0     \n",
       "4 14 xenon 12  right 0    6   31.30 1     \n",
       "5 16 xenon  9  left  1   11   42.27 0     "
      ]
     },
     "metadata": {},
     "output_type": "display_data"
    }
   ],
   "source": [
    " head(Diabetic, 5)"
   ]
  },
  {
   "cell_type": "code",
   "execution_count": 7,
   "id": "architectural-consensus",
   "metadata": {
    "scrolled": true
   },
   "outputs": [
    {
     "name": "stdout",
     "output_type": "stream",
     "text": [
      "'data.frame':\t394 obs. of  8 variables:\n",
      " $ id    : int  5 5 14 14 16 16 25 25 29 29 ...\n",
      " $ laser : Factor w/ 2 levels \"xenon\",\"argon\": 2 2 1 1 1 1 1 1 1 1 ...\n",
      " $ age   : int  28 28 12 12 9 9 9 9 13 13 ...\n",
      " $ eye   : Factor w/ 2 levels \"left\",\"right\": 1 2 1 2 1 2 1 2 1 2 ...\n",
      " $ trt   : int  0 1 1 0 1 0 0 1 0 1 ...\n",
      " $ risk  : int  9 9 8 6 11 11 11 11 10 9 ...\n",
      " $ time  : num  46.2 46.2 42.5 31.3 42.3 ...\n",
      " $ status: int  0 0 0 1 0 0 0 0 1 0 ...\n"
     ]
    }
   ],
   "source": [
    " str(Diabetic)"
   ]
  },
  {
   "cell_type": "code",
   "execution_count": 8,
   "id": "adolescent-buying",
   "metadata": {},
   "outputs": [
    {
     "data": {
      "image/png": "[encoded data removed]",
      "text/plain": [
       "plot without title"
      ]
     },
     "metadata": {
      "image/png": {
       "height": 420,
       "width": 420
      }
     },
     "output_type": "display_data"
    }
   ],
   "source": [
    "fit.all<-survfit(Surv(time,status==1)~1,data=Diabetic)\n",
    "plot(fit.all, xlab = \"Time\", ylab = \"Survival Probablity\", ylim = c(0.40,1))"
   ]
  },
  {
   "cell_type": "markdown",
   "id": "imported-sugar",
   "metadata": {},
   "source": [
    "### Convert Laser, Eye and Trt To Factors"
   ]
  },
  {
   "cell_type": "code",
   "execution_count": 13,
   "id": "fifty-iceland",
   "metadata": {},
   "outputs": [],
   "source": [
    "Diabetic$laser<- as.factor(Diabetic$laser)\n",
    "Diabetic$eye <- as.factor(Diabetic$eye)\n",
    "#Diabetic$trt<- as.factor(Diabetic$trt)"
   ]
  },
  {
   "cell_type": "code",
   "execution_count": 14,
   "id": "tight-george",
   "metadata": {},
   "outputs": [
    {
     "name": "stdout",
     "output_type": "stream",
     "text": [
      "'data.frame':\t394 obs. of  8 variables:\n",
      " $ id    : int  5 5 14 14 16 16 25 25 29 29 ...\n",
      " $ laser : Factor w/ 2 levels \"xenon\",\"argon\": 2 2 1 1 1 1 1 1 1 1 ...\n",
      " $ age   : int  28 28 12 12 9 9 9 9 13 13 ...\n",
      " $ eye   : Factor w/ 2 levels \"left\",\"right\": 1 2 1 2 1 2 1 2 1 2 ...\n",
      " $ trt   : int  0 1 1 0 1 0 0 1 0 1 ...\n",
      " $ risk  : int  9 9 8 6 11 11 11 11 10 9 ...\n",
      " $ time  : num  46.2 46.2 42.5 31.3 42.3 ...\n",
      " $ status: int  0 0 0 1 0 0 0 0 1 0 ...\n"
     ]
    }
   ],
   "source": [
    "str(Diabetic)"
   ]
  },
  {
   "cell_type": "code",
   "execution_count": 11,
   "id": "trained-equality",
   "metadata": {},
   "outputs": [
    {
     "data": {
      "image/png": "[encoded data removed]",
      "text/plain": [
       "Plot with title \"Status by Laser Type\""
      ]
     },
     "metadata": {
      "image/png": {
       "height": 420,
       "width": 420
      }
     },
     "output_type": "display_data"
    }
   ],
   "source": [
    "fit.laser<-survfit(Surv(time,status==1)~laser,data=Diabetic)\n",
    "plot(fit.laser,col=2:5, lty=1:4, xlab = \"Time\", ylim = c(0.40,1), \n",
    "     ylab = \"Survival Probablity\", main=\"Status by Laser Type\")\n",
    "llabel<-gsub(\"x=\",\"\",names(fit.laser$strata))\n",
    "legend(\"bottomleft\",legend=llabel,col=2:5,lty=1:4,bty='n')"
   ]
  },
  {
   "cell_type": "code",
   "execution_count": 12,
   "id": "dramatic-excellence",
   "metadata": {},
   "outputs": [
    {
     "data": {
      "text/plain": [
       "Call:\n",
       "survdiff(formula = Surv(time, status == 1) ~ laser, data = Diabetic)\n",
       "\n",
       "              N Observed Expected (O-E)^2/E (O-E)^2/V\n",
       "laser=xenon 228       87     87.8   0.00756    0.0175\n",
       "laser=argon 166       68     67.2   0.00988    0.0175\n",
       "\n",
       " Chisq= 0  on 1 degrees of freedom, p= 0.9 "
      ]
     },
     "metadata": {},
     "output_type": "display_data"
    }
   ],
   "source": [
    "survdiff(Surv(time,status==1)~laser,data=Diabetic)"
   ]
  },
  {
   "cell_type": "markdown",
   "id": "contrary-christopher",
   "metadata": {},
   "source": [
    "##### From the visual representation of the survival probability and from the high p-value of 0.9 of the log-rank test, it is possible to conclude that there is not much significant difference between the proportion of patients with visual loss by laser category"
   ]
  },
  {
   "cell_type": "markdown",
   "id": "particular-colon",
   "metadata": {},
   "source": [
    "##### "
   ]
  },
  {
   "cell_type": "markdown",
   "id": "collaborative-prison",
   "metadata": {},
   "source": [
    "### Transform the age variable into two categories - minor and adult"
   ]
  },
  {
   "cell_type": "code",
   "execution_count": 41,
   "id": "drawn-startup",
   "metadata": {},
   "outputs": [],
   "source": [
    "Diabetic$agecat <- cut(Diabetic$age, breaks=c(0, 22, Inf), labels=c(\"minor\", \"adult\"))"
   ]
  },
  {
   "cell_type": "code",
   "execution_count": 49,
   "id": "twenty-asset",
   "metadata": {},
   "outputs": [
    {
     "data": {
      "text/html": [
       "64"
      ],
      "text/latex": [
       "64"
      ],
      "text/markdown": [
       "64"
      ],
      "text/plain": [
       "[1] 64"
      ]
     },
     "metadata": {},
     "output_type": "display_data"
    }
   ],
   "source": [
    "round(sum(Diabetic$agecat == 'minor')/length(Diabetic$agecat)*100,1) # data imbalance between the age categories"
   ]
  },
  {
   "cell_type": "code",
   "execution_count": 72,
   "id": "ceramic-mentor",
   "metadata": {},
   "outputs": [
    {
     "data": {
      "image/png": "[encoded data removed]",
      "text/plain": [
       "Plot with title \"Status by Age\""
      ]
     },
     "metadata": {},
     "output_type": "display_data"
    }
   ],
   "source": [
    "fit.age<-survfit(Surv(time,status==1)~agecat,data=Diabetic)\n",
    "plot(fit.age,col=2:5, lty=1:4, xlab = \"Time\", ylim = c(0.40,1), \n",
    "     ylab = \"Survival Probablity\", main=\"Status by Age\")\n",
    "llabel<-gsub(\"x=\",\"\",names(fit.age$strata))\n",
    "legend(\"bottomleft\",legend=llabel,col=2:5,lty=1:4,bty='n')"
   ]
  },
  {
   "cell_type": "code",
   "execution_count": 65,
   "id": "addressed-baltimore",
   "metadata": {},
   "outputs": [
    {
     "data": {
      "text/plain": [
       "Call:\n",
       "survdiff(formula = Surv(time, status == 1) ~ agecat, data = Diabetic)\n",
       "\n",
       "               N Observed Expected (O-E)^2/E (O-E)^2/V\n",
       "agecat=minor 252       98     98.4   0.00158   0.00433\n",
       "agecat=adult 142       57     56.6   0.00274   0.00433\n",
       "\n",
       " Chisq= 0  on 1 degrees of freedom, p= 0.9 "
      ]
     },
     "metadata": {},
     "output_type": "display_data"
    }
   ],
   "source": [
    "survdiff(Surv(time,status==1)~agecat,data=Diabetic)"
   ]
  },
  {
   "cell_type": "markdown",
   "id": "civilian-jewelry",
   "metadata": {},
   "source": [
    "##### From the visual representation of the survival probability and from the high p-value of 0.9 of the log-rank test, it is possible to conclude that there is not much significant difference between the proportion of patients with visual loss by age category"
   ]
  },
  {
   "cell_type": "markdown",
   "id": "dated-cricket",
   "metadata": {},
   "source": [
    "##### "
   ]
  },
  {
   "cell_type": "code",
   "execution_count": 73,
   "id": "expected-aluminum",
   "metadata": {},
   "outputs": [
    {
     "data": {
      "image/png": "[encoded data removed]",
      "text/plain": [
       "Plot with title \"Status by Eye\""
      ]
     },
     "metadata": {},
     "output_type": "display_data"
    }
   ],
   "source": [
    "fit.eye<-survfit(Surv(time,status==1)~eye,data=Diabetic)\n",
    "plot(fit.eye,col=2:5, lty=1:4, xlab = \"Time\", ylim = c(0.40,1), \n",
    "     ylab = \"Survival Probablity\", main=\"Status by Eye\")\n",
    "llabel<-gsub(\"x=\",\"\",names(fit.eye$strata))\n",
    "legend(\"bottomleft\",legend=llabel,col=2:5,lty=1:4,bty='n')"
   ]
  },
  {
   "cell_type": "code",
   "execution_count": 67,
   "id": "three-cameroon",
   "metadata": {},
   "outputs": [
    {
     "data": {
      "text/plain": [
       "Call:\n",
       "survdiff(formula = Surv(time, status == 1) ~ eye, data = Diabetic)\n",
       "\n",
       "            N Observed Expected (O-E)^2/E (O-E)^2/V\n",
       "eye=left  197       69     79.8      1.47      3.03\n",
       "eye=right 197       86     75.2      1.56      3.03\n",
       "\n",
       " Chisq= 3  on 1 degrees of freedom, p= 0.08 "
      ]
     },
     "metadata": {},
     "output_type": "display_data"
    }
   ],
   "source": [
    "survdiff(Surv(time,status==1)~eye,data=Diabetic)"
   ]
  },
  {
   "cell_type": "markdown",
   "id": "hungry-whale",
   "metadata": {},
   "source": [
    "##### The high p-value of p-value from the log-rank analysis demonstates that there is not a significant difference between the proportion of patients with visual loss by the eye factor"
   ]
  },
  {
   "cell_type": "markdown",
   "id": "normal-appendix",
   "metadata": {},
   "source": [
    "##### "
   ]
  },
  {
   "cell_type": "code",
   "execution_count": 110,
   "id": "superb-castle",
   "metadata": {},
   "outputs": [
    {
     "data": {
      "image/png": "[encoded data removed]",
      "text/plain": [
       "Plot with title \"Status by Treatment\""
      ]
     },
     "metadata": {},
     "output_type": "display_data"
    }
   ],
   "source": [
    "fit.trt<-survfit(Surv(time,status==1)~trt,data=Diabetic)\n",
    "plot(fit.trt,col=2:5, lty=1:4, xlab = \"Time\", ylim = c(0.40,1), \n",
    "     ylab = \"Survival Probablity\", main=\"Status by Treatment\")\n",
    "llabel<-gsub(\"x=\",\"\",names(fit.trt$strata))\n",
    "legend(\"bottomleft\",legend=llabel,col=2:5,lty=1:4,bty='n')"
   ]
  },
  {
   "cell_type": "code",
   "execution_count": 79,
   "id": "accessory-department",
   "metadata": {
    "scrolled": true
   },
   "outputs": [
    {
     "data": {
      "text/plain": [
       "Call:\n",
       "survdiff(formula = Surv(time, status == 1) ~ trt, data = Diabetic)\n",
       "\n",
       "        N Observed Expected (O-E)^2/E (O-E)^2/V\n",
       "trt=0 197      101     71.8      11.9      22.2\n",
       "trt=1 197       54     83.2      10.3      22.2\n",
       "\n",
       " Chisq= 22.2  on 1 degrees of freedom, p= 2e-06 "
      ]
     },
     "metadata": {},
     "output_type": "display_data"
    }
   ],
   "source": [
    "survdiff(Surv(time,status==1)~trt,data=Diabetic)"
   ]
  },
  {
   "cell_type": "markdown",
   "id": "bound-sample",
   "metadata": {},
   "source": [
    "**From the visual representation of the survival probability and from a low p-value of 2e-06 of the log-rank test, it is possible to conclude that there is a significant difference between the proportion of patients with visual loss by treatment group.**"
   ]
  },
  {
   "cell_type": "markdown",
   "id": "vocational-price",
   "metadata": {},
   "source": [
    "##### "
   ]
  },
  {
   "cell_type": "markdown",
   "id": "proper-resolution",
   "metadata": {},
   "source": [
    "### Transform the risk variable into two categories - medium and high "
   ]
  },
  {
   "cell_type": "code",
   "execution_count": 30,
   "id": "vietnamese-kansas",
   "metadata": {},
   "outputs": [],
   "source": [
    "Diabetic$riskcat <- cut(Diabetic$risk, breaks=c(5, 9, 12), labels=c(\"medium\", \"high\"))"
   ]
  },
  {
   "cell_type": "code",
   "execution_count": 75,
   "id": "removable-exclusive",
   "metadata": {},
   "outputs": [
    {
     "data": {
      "image/png": "[encoded data removed]",
      "text/plain": [
       "Plot with title \"Status by Risk\""
      ]
     },
     "metadata": {},
     "output_type": "display_data"
    }
   ],
   "source": [
    "fit.risk<-survfit(Surv(time,status==1)~riskcat,data=Diabetic)\n",
    "plot(fit.risk,col=2:5, lty=1:4, xlab = \"Time\", ylim = c(0.40,1), \n",
    "     ylab = \"Survival Probablity\", main=\"Status by Risk\")\n",
    "llabel<-gsub(\"x=\",\"\",names(fit.risk$strata))\n",
    "legend(\"bottomleft\",legend=llabel,col=2:5,lty=1:4,bty='n')"
   ]
  },
  {
   "cell_type": "code",
   "execution_count": 66,
   "id": "valuable-negotiation",
   "metadata": {},
   "outputs": [
    {
     "data": {
      "text/plain": [
       "Call:\n",
       "survdiff(formula = Surv(time, status == 1) ~ riskcat, data = Diabetic)\n",
       "\n",
       "                 N Observed Expected (O-E)^2/E (O-E)^2/V\n",
       "riskcat=medium 196       58     85.1      8.62      19.2\n",
       "riskcat=high   198       97     69.9     10.50      19.2\n",
       "\n",
       " Chisq= 19.2  on 1 degrees of freedom, p= 1e-05 "
      ]
     },
     "metadata": {},
     "output_type": "display_data"
    }
   ],
   "source": [
    "survdiff(Surv(time,status==1)~riskcat,data=Diabetic)"
   ]
  },
  {
   "cell_type": "markdown",
   "id": "experimental-monitor",
   "metadata": {},
   "source": [
    "##### From the visual representation of the survival probability and from a low p-value of 0.00001 of the log-rank test, it is possible to conclude that there is a significant difference between the proportion of patients with visual loss by risk category"
   ]
  },
  {
   "cell_type": "markdown",
   "id": "overhead-committee",
   "metadata": {},
   "source": [
    "##### "
   ]
  },
  {
   "cell_type": "code",
   "execution_count": 85,
   "id": "decreased-driving",
   "metadata": {},
   "outputs": [
    {
     "data": {
      "text/plain": [
       "Call:\n",
       "coxph(formula = Surv(time, status == 1) ~ laser + eye + trt + \n",
       "    riskcat + agecat, data = Diabetic)\n",
       "\n",
       "  n= 394, number of events= 155 \n",
       "\n",
       "               coef exp(coef) se(coef)      z Pr(>|z|)    \n",
       "laserxenon  -0.1408    0.8687   0.3208 -0.439   0.6607    \n",
       "eyeright     0.3157    1.3712   0.1634  1.932   0.0534 .  \n",
       "trt         -0.8383    0.4324   0.1700 -4.931 8.17e-07 ***\n",
       "riskcathigh  0.7241    2.0628   0.1669  4.338 1.44e-05 ***\n",
       "agecatadult -0.1003    0.9045   0.3307 -0.303   0.7616    \n",
       "---\n",
       "Signif. codes:  0 '***' 0.001 '**' 0.01 '*' 0.05 '.' 0.1 ' ' 1\n",
       "\n",
       "            exp(coef) exp(-coef) lower .95 upper .95\n",
       "laserxenon     0.8687     1.1512    0.4632    1.6289\n",
       "eyeright       1.3712     0.7293    0.9954    1.8889\n",
       "trt            0.4324     2.3125    0.3099    0.6034\n",
       "riskcathigh    2.0628     0.4848    1.4872    2.8612\n",
       "agecatadult    0.9045     1.1055    0.4731    1.7295\n",
       "\n",
       "Concordance= 0.653  (se = 0.022 )\n",
       "Likelihood ratio test= 46.9  on 5 df,   p=6e-09\n",
       "Wald test            = 44.56  on 5 df,   p=2e-08\n",
       "Score (logrank) test = 46.45  on 5 df,   p=7e-09\n"
      ]
     },
     "metadata": {},
     "output_type": "display_data"
    }
   ],
   "source": [
    "fit.cox <- coxph(formula = Surv(time, status  ==1) ~ laser + eye + trt + riskcat + agecat ,data = Diabetic)\n",
    "summary(fit.cox)"
   ]
  },
  {
   "cell_type": "markdown",
   "id": "charitable-petite",
   "metadata": {},
   "source": [
    "##### Taking a look at the overall model that includes 5 categorical variables laser, eye, trt (treatment), riskcat (risk category) and agecat (age category), the following conclusions can be made: The overall model’s p-value of 5.946e-09 means that the model is meaningful and would accurately portray the visual loss of patients trt1 is significant based on p-value (8.17e-07). Interpreting exp(coef) we can conclude, compared to the reference variable trt0, trt1 is 0.43x more likely to lose vision as those who did not receive treatment. riskcathigh is significant based on p-value (1.44e-05). Interpreting exp(coef) we can conclude, compared to the reference of rishcatmedium, riskcathigh is 0.9045x more likely to lose vision as those who are in the medium risk group."
   ]
  },
  {
   "cell_type": "markdown",
   "id": "contained-wallpaper",
   "metadata": {},
   "source": [
    "### Assumptions"
   ]
  },
  {
   "cell_type": "markdown",
   "id": "incorrect-anger",
   "metadata": {},
   "source": [
    "### Residual Plot"
   ]
  },
  {
   "cell_type": "code",
   "execution_count": 108,
   "id": "coral-kelly",
   "metadata": {},
   "outputs": [
    {
     "data": {
      "image/png": "[encoded data removed]",
      "text/plain": [
       "plot without title"
      ]
     },
     "metadata": {},
     "output_type": "display_data"
    }
   ],
   "source": [
    "plot(predict(fit.cox),residuals(fit.cox,type = 'martingale'),ylab = 'residuals',xlab = 'fittedvalues')\n",
    "abline(h=0)\n",
    "lines(smooth.spline(predict(fit.cox),residuals(fit.cox,type = 'martingale')),col='red')"
   ]
  },
  {
   "cell_type": "markdown",
   "id": "banner-bundle",
   "metadata": {},
   "source": [
    "##### Shows clear linear residual plot"
   ]
  },
  {
   "cell_type": "markdown",
   "id": "assisted-airport",
   "metadata": {},
   "source": [
    "### Checking for Constant Hazard Ratio "
   ]
  },
  {
   "cell_type": "code",
   "execution_count": 118,
   "id": "human-oxide",
   "metadata": {},
   "outputs": [
    {
     "data": {
      "text/plain": [
       "                rho  chisq     p\n",
       "eyeright     0.0163 0.0398 0.842\n",
       "trt         -0.0613 0.5680 0.451\n",
       "riskcathigh -0.1138 1.9978 0.158\n",
       "GLOBAL           NA 2.6390 0.451"
      ]
     },
     "metadata": {},
     "output_type": "display_data"
    },
    {
     "data": {
      "image/png": "[encoded data removed]",
      "text/plain": [
       "plot without title"
      ]
     },
     "metadata": {},
     "output_type": "display_data"
    },
    {
     "data": {
      "image/png": "[encoded data removed]",
      "text/plain": [
       "plot without title"
      ]
     },
     "metadata": {},
     "output_type": "display_data"
    },
    {
     "data": {
      "image/png": "[encoded data removed]",
      "text/plain": [
       "plot without title"
      ]
     },
     "metadata": {},
     "output_type": "display_data"
    }
   ],
   "source": [
    "k=cox.zph(fit.cox2)\n",
    "k\n",
    "plot(k[3,])\n",
    "abline(h=0)\n",
    "\n",
    "plot(k[2,])\n",
    "abline(h=0)\n",
    "\n",
    "plot(k[1,])\n",
    "abline(h=0)"
   ]
  },
  {
   "cell_type": "markdown",
   "id": "liberal-watts",
   "metadata": {},
   "source": [
    "##### All have constant hazard ratio"
   ]
  },
  {
   "cell_type": "markdown",
   "id": "considerable-vector",
   "metadata": {},
   "source": [
    "### Outlier Analysis"
   ]
  },
  {
   "cell_type": "code",
   "execution_count": 119,
   "id": "individual-billy",
   "metadata": {},
   "outputs": [
    {
     "name": "stderr",
     "output_type": "stream",
     "text": [
      "`geom_smooth()` using formula 'y ~ x'\n"
     ]
    },
    {
     "data": {
      "text/plain": [
       "Call:\n",
       "coxph(formula = Surv(time, status == 1) ~ eye + trt + riskcat, \n",
       "    data = Diabetic)\n",
       "\n",
       "  n= 394, number of events= 155 \n",
       "\n",
       "               coef exp(coef) se(coef)      z Pr(>|z|)    \n",
       "eyeright     0.3145    1.3696   0.1628  1.932   0.0534 .  \n",
       "trt         -0.8357    0.4336   0.1699 -4.919 8.71e-07 ***\n",
       "riskcathigh  0.7218    2.0581   0.1668  4.326 1.52e-05 ***\n",
       "---\n",
       "Signif. codes:  0 '***' 0.001 '**' 0.01 '*' 0.05 '.' 0.1 ' ' 1\n",
       "\n",
       "            exp(coef) exp(-coef) lower .95 upper .95\n",
       "eyeright       1.3696     0.7301    0.9954    1.8845\n",
       "trt            0.4336     2.3064    0.3108    0.6049\n",
       "riskcathigh    2.0581     0.4859    1.4840    2.8542\n",
       "\n",
       "Concordance= 0.654  (se = 0.022 )\n",
       "Likelihood ratio test= 46.69  on 3 df,   p=4e-10\n",
       "Wald test            = 44.4  on 3 df,   p=1e-09\n",
       "Score (logrank) test = 46.25  on 3 df,   p=5e-10\n"
      ]
     },
     "metadata": {},
     "output_type": "display_data"
    },
    {
     "data": {
      "image/png": "[encoded data removed]",
      "text/plain": [
       "plot without title"
      ]
     },
     "metadata": {},
     "output_type": "display_data"
    }
   ],
   "source": [
    "ggcoxdiagnostics(fit.cox2, type = \"dfbeta\",linear.predictions = FALSE, ggtheme = theme_bw())\n",
    "summary(fit.cox2)"
   ]
  },
  {
   "cell_type": "markdown",
   "id": "agreed-entertainment",
   "metadata": {},
   "source": [
    "##### No outlier values have significant contribution"
   ]
  }
 ],
 "metadata": {
  "kernelspec": {
   "display_name": "R",
   "language": "R",
   "name": "ir"
  },
  "language_info": {
   "codemirror_mode": "r",
   "file_extension": ".r",
   "mimetype": "text/x-r-source",
   "name": "R",
   "pygments_lexer": "r",
   "version": "4.1.0"
  }
 },
 "nbformat": 4,
 "nbformat_minor": 5
}
